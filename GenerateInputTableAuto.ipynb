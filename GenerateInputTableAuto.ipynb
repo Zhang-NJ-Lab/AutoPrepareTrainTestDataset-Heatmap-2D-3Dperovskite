{
 "cells": [
  {
   "cell_type": "code",
   "execution_count": 1,
   "id": "4dfa425f-bdf6-436a-8255-0fc63603ae50",
   "metadata": {},
   "outputs": [],
   "source": [
    "# 程序说明：\n",
    "# 从一个csv文件里提取内容到另一个csv文件，填充到特定位置\n",
    "# 核心实现：\n",
    "# pandas的精确定位pandas.loc[index,columns];\n",
    "# if判断确定行索引；\n",
    "# 嵌套的for循环实现批量化\n",
    "# 难点问题：\n",
    "# 将空值的NAN填充为0以实现数据转换；\n",
    "# 修改源数据使用inplace=True参数；也可利用赋值改变源数据；\n",
    "# 对快照进行源数据修改，源数据会被修改；可多次读取同一个文件，这样即使修改一个源数据，其它文件不受影响(程序中Ion列的替换);\n",
    "# 对使用正则过滤后的多列数据进行整体赋值以修改源数据(类型)***\n",
    "import pandas as pd\n",
    "import numpy as np"
   ]
  },
  {
   "cell_type": "code",
   "execution_count": 2,
   "id": "e2c68a90-6f4e-4cb8-8624-9ba18202a196",
   "metadata": {},
   "outputs": [],
   "source": [
    "#Eg1.csv为起始文件，需要标号行数（从0开始，不含输出列，暂时是6列描述符，后面可以改）\n",
    "df1 = pd.read_csv(\"Eg1.csv\", encoding_errors='ignore')\n",
    "df2 = pd.read_csv(\"Periodic Table of Elements.csv\", encoding_errors='ignore')\n",
    "df3 = pd.read_csv('Eg1.csv', encoding_errors='ignore')\n",
    "df1_copy = df1\n",
    "df2_copy = df2\n",
    "df2_copy.index[1]\n",
    "df1_copy.replace(np.nan, 0, inplace=True)  # 把nan或inf填充为0，这样才能进行数据转换"
   ]
  },
  {
   "cell_type": "code",
   "execution_count": 3,
   "id": "17a14ab9-58d7-4a67-bce8-af3dc60e97fb",
   "metadata": {},
   "outputs": [],
   "source": [
    "#Periodic Table of Elements.csv的表头\n",
    "ls = ['NumberofProtons', 'NumberofNeutrons', 'NumberofShells', 'SpecificHeat',\n",
    "      'Density', 'Ion Radius', 'FirstIonization', 'AtomicMass', 'MeltingPoint']\n",
    "\n",
    "for k in df1_copy.index:\n",
    "    for j in range(1, 7):\n",
    "        #         print(df1_copy.columns[j])\n",
    "        for i in df2_copy.index:\n",
    "            if df2_copy.Symbol[i] == df1_copy[df1_copy.columns[j]][k]:\n",
    "                for l in ls:\n",
    "                    str1 = df1_copy.columns[j] + ' ' + l\n",
    "                    #                     print('*'*100)\n",
    "                    #                     print(str1)\n",
    "                    df1_copy.loc[k, str1] = df2_copy.loc[i, l]\n",
    "\n",
    "df1_copy.filter(regex='Number') # 把所有含number的列数据类型设置为整数\n",
    "\n",
    "# # 想要真正的改变数据框，通常需要通过赋值来进行，比如\n",
    "# df[\"Customer Number\"] = df[\"Customer Number\"].astype(\"int\")\n",
    "df1_copy[df1_copy.filter(regex='Number').columns] = df1_copy.filter(regex='Number')\n",
    "# df1_copy.Ion=df3.Ion\n",
    "\n",
    "df1_copy.to_csv('Eg_final.csv')"
   ]
  },
  {
   "cell_type": "code",
   "execution_count": null,
   "id": "b84c80c3-cd31-4d70-af03-99968bbc1af9",
   "metadata": {},
   "outputs": [],
   "source": [
    "#Eg_final.csv 新生成的csv表格需要进一步处理，例如删除前面几列不需要的，例如加入容忍因子和八面体因子（根据离子半径和公式），然后就可以进行机器学习建模预测了！！！！！"
   ]
  }
 ],
 "metadata": {
  "kernelspec": {
   "display_name": "Python [conda env:my-pymatgen-env]",
   "language": "python",
   "name": "conda-env-my-pymatgen-env-py"
  },
  "language_info": {
   "codemirror_mode": {
    "name": "ipython",
    "version": 3
   },
   "file_extension": ".py",
   "mimetype": "text/x-python",
   "name": "python",
   "nbconvert_exporter": "python",
   "pygments_lexer": "ipython3",
   "version": "3.7.13"
  }
 },
 "nbformat": 4,
 "nbformat_minor": 5
}
